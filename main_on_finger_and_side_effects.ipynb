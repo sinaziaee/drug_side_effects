{
 "cells": [
  {
   "cell_type": "code",
   "execution_count": 1,
   "metadata": {},
   "outputs": [],
   "source": [
    "import numpy as np\n",
    "import pandas as pd\n",
    "import torch\n",
    "import torch_geometric\n",
    "from torch_geometric.nn import GCNConv\n",
    "from torch_geometric.data import Data, Batch\n",
    "from torch_geometric.transforms import LocalDegreeProfile\n",
    "import torch.nn.functional as F\n",
    "from torch_geometric.datasets import GemsecDeezer\n",
    "from sklearn.metrics import accuracy_score, roc_auc_score\n",
    "from pathlib import Path"
   ]
  },
  {
   "cell_type": "code",
   "execution_count": 2,
   "metadata": {},
   "outputs": [],
   "source": [
    "# locating paths to datasets\n",
    "base_dir = Path.cwd()\n",
    "dataset_dir = f'{base_dir}/datasets'\n",
    "se_df_path = f'{dataset_dir}/sideEffectsfillterd.csv'\n",
    "g80_df_path = f'{dataset_dir}/graph80.csv'\n",
    "g85_df_path = f'{dataset_dir}/graph85.csv'\n",
    "# load datasets\n",
    "se_df = pd.read_csv(se_df_path)\n",
    "g80_df = pd.read_csv(g80_df_path)\n",
    "g85_df = pd.read_csv(g85_df_path)"
   ]
  },
  {
   "cell_type": "code",
   "execution_count": 3,
   "metadata": {},
   "outputs": [],
   "source": [
    "# loading all edges and scores\n",
    "all_edges = []\n",
    "all_edges_scores = []\n",
    "for row in g80_df.values:\n",
    "    row = list(row)\n",
    "    score = row[3]\n",
    "    edge = [row[1], row[2]]\n",
    "    reverse_edge = [row[2], row[1]]\n",
    "    if edge not in all_edges and reverse_edge not in all_edges:\n",
    "        all_edges.append(edge)\n",
    "        all_edges.append(reverse_edge)\n",
    "        all_edges_scores.append(score)\n",
    "        all_edges_scores.append(score)"
   ]
  },
  {
   "cell_type": "code",
   "execution_count": null,
   "metadata": {},
   "outputs": [],
   "source": [
    "for edge in all_edges:\n",
    "    print(edge)"
   ]
  },
  {
   "cell_type": "code",
   "execution_count": 50,
   "metadata": {},
   "outputs": [
    {
     "name": "stdout",
     "output_type": "stream",
     "text": [
      "Data(x=[308, 1090], edge_index=[2, 204])\n"
     ]
    }
   ],
   "source": [
    "# Graph data creator\n",
    "def create_graph_data_from_nodes_with_features(df, all_edges, scores=None, with_edge_attr=False):\n",
    "    # Getting the number of rows and columns\n",
    "    r_size, c_size = df.shape\n",
    "    # Loading only the feature sets from dataframe\n",
    "    x_data = df.iloc[:, 1:(c_size-1)]\n",
    "    x_data = np.array(x_data, dtype=np.float32)\n",
    "    # Temp lists and dictionary\n",
    "    nodes_data_list = list()\n",
    "    nodes_data_dict = dict()\n",
    "    reverse_node_data_dict = dict()\n",
    "    # Loading only drugs with their DCC code\n",
    "    count = 0\n",
    "    for x in df.values[:, (c_size-1):]:\n",
    "        nodes_data_dict[str(x.squeeze())] = count\n",
    "        reverse_node_data_dict[count] = str(x.squeeze())\n",
    "        count+=1\n",
    "        nodes_data_list.append(str(x.squeeze()))\n",
    "    # loading only nodes and edges that we do have the node features \n",
    "    edge_scores = list()\n",
    "    edges_data = list()\n",
    "    for i, edge in enumerate(all_edges):\n",
    "        if edge[0] in nodes_data_list and edge[1] in nodes_data_list:\n",
    "            edges_data.append([nodes_data_dict[edge[0]], nodes_data_dict[edge[1]]])\n",
    "            edge_scores.append(scores[i])\n",
    "    ################################################\n",
    "    nodes_data = list(nodes_data_dict.values())\n",
    "    nodes_data = torch.from_numpy(np.array(nodes_data))\n",
    "    edges_data = torch.from_numpy(np.array(edges_data))\n",
    "    x_data = torch.from_numpy(np.array(x_data))\n",
    "    if with_edge_attr == True:\n",
    "        data = Data(x=x_data, edge_index=edges_data.T, edge_attr=edge_scores)\n",
    "    else:\n",
    "        data = Data(x=x_data, edge_index=edges_data.T)\n",
    "\n",
    "    return data, reverse_node_data_dict\n",
    "\n",
    "data, reverse_node_data_list = create_graph_data_from_nodes_with_features(se_df, all_edges, all_edges_scores)\n",
    "print(data)"
   ]
  },
  {
   "cell_type": "code",
   "execution_count": 51,
   "metadata": {},
   "outputs": [],
   "source": [
    "class GNN(torch.nn.Module):\n",
    "    def __init__(self, in_channels, hid_channels, out_channels):\n",
    "        super(GNN, self).__init__()\n",
    "        torch.manual_seed(0)\n",
    "        self.conv1 = GCNConv(in_channels=in_channels, out_channels=hid_channels)\n",
    "        self.conv2 = GCNConv(in_channels=hid_channels, out_channels=hid_channels)\n",
    "        self.conv3 = GCNConv(in_channels=hid_channels, out_channels=out_channels)\n",
    "        # self.lin1 = torch.nn.Linear(in_features=hid_channels, out_features=out_channels)\n",
    "\n",
    "    def forward(self, x, edge_index, index=0):\n",
    "        # print(x)\n",
    "        x = self.conv1(x, edge_index)\n",
    "        # print(x)\n",
    "        x = x.relu()\n",
    "        x = F.dropout(x, p=0.5, training=self.training)\n",
    "        x = self.conv2(x, edge_index)\n",
    "        x = x.relu()\n",
    "        x = F.dropout(x, p=0.5, training=self.training)\n",
    "        x = self.conv3(x, edge_index)\n",
    "        # x = self.lin1(x)\n",
    "        # x = x.sigmoid()\n",
    "        return x"
   ]
  },
  {
   "cell_type": "code",
   "execution_count": 52,
   "metadata": {},
   "outputs": [
    {
     "data": {
      "text/plain": [
       "Data(x=[308, 1095], edge_index=[2, 204])"
      ]
     },
     "execution_count": 52,
     "metadata": {},
     "output_type": "execute_result"
    }
   ],
   "source": [
    "ldp = LocalDegreeProfile()\n",
    "data = ldp(data)\n",
    "data"
   ]
  },
  {
   "cell_type": "code",
   "execution_count": null,
   "metadata": {},
   "outputs": [],
   "source": []
  }
 ],
 "metadata": {
  "interpreter": {
   "hash": "916dbcbb3f70747c44a77c7bcd40155683ae19c65e1c03b4aa3499c5328201f1"
  },
  "kernelspec": {
   "display_name": "Python 3.8.10 64-bit",
   "language": "python",
   "name": "python3"
  },
  "language_info": {
   "codemirror_mode": {
    "name": "ipython",
    "version": 3
   },
   "file_extension": ".py",
   "mimetype": "text/x-python",
   "name": "python",
   "nbconvert_exporter": "python",
   "pygments_lexer": "ipython3",
   "version": "3.8.12"
  },
  "orig_nbformat": 4
 },
 "nbformat": 4,
 "nbformat_minor": 2
}
