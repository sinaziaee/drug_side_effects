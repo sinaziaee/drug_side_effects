{
 "cells": [
  {
   "cell_type": "code",
   "execution_count": 21,
   "metadata": {},
   "outputs": [],
   "source": [
    "import numpy as np\n",
    "import pandas as pd\n",
    "import torch\n",
    "import torch_geometric\n",
    "from torch_geometric.nn import GCNConv\n",
    "from torch_geometric.data import Data, Batch\n",
    "from torch_geometric.transforms import LocalDegreeProfile\n",
    "import torch.nn.functional as F\n",
    "from torch_geometric.datasets import GemsecDeezer\n",
    "from sklearn.metrics import accuracy_score, roc_auc_score"
   ]
  },
  {
   "cell_type": "code",
   "execution_count": 2,
   "metadata": {},
   "outputs": [
    {
     "name": "stdout",
     "output_type": "stream",
     "text": [
      "GemsecDeezer()\n",
      "Data(edge_index=[2, 445774], y=[47538, 84])\n",
      "\n",
      "num_nodes: 47538\n",
      "num_edges: 445774\n"
     ]
    },
    {
     "name": "stderr",
     "output_type": "stream",
     "text": [
      "/home/sina/anaconda3/envs/pyg/lib/python3.8/site-packages/torch_geometric/data/storage.py:259: UserWarning: Unable to accurately infer 'num_nodes' from the attribute set '{'edge_index', 'y'}'. Please explicitly set 'num_nodes' as an attribute of 'data' to suppress this warning\n",
      "  warnings.warn(\n"
     ]
    },
    {
     "name": "stdout",
     "output_type": "stream",
     "text": [
      "is_directed: False\n",
      "has_self_loops: False\n"
     ]
    },
    {
     "data": {
      "text/plain": [
       "Data(edge_index=[2, 445774], y=[47538, 84], x=[47538, 5])"
      ]
     },
     "execution_count": 2,
     "metadata": {},
     "output_type": "execute_result"
    }
   ],
   "source": [
    "dataset = GemsecDeezer(root='.', name='HU')\n",
    "data = dataset[0]\n",
    "print(dataset)\n",
    "print(data)\n",
    "print()\n",
    "print('num_nodes:', data.num_nodes)\n",
    "print('num_edges:', data.num_edges)\n",
    "print('is_directed:', data.is_directed())\n",
    "print('has_self_loops:', data.has_self_loops())\n",
    "# Automatically creating 5 node features\n",
    "ldp = LocalDegreeProfile()\n",
    "data = ldp(data)\n",
    "data"
   ]
  },
  {
   "cell_type": "code",
   "execution_count": 3,
   "metadata": {},
   "outputs": [],
   "source": [
    "class GNN(torch.nn.Module):\n",
    "    def __init__(self, in_channels, hid_channels, out_channels):\n",
    "        super(GNN, self).__init__()\n",
    "        torch.manual_seed(0)\n",
    "        self.conv1 = GCNConv(in_channels=in_channels, out_channels=hid_channels)\n",
    "        self.conv2 = GCNConv(in_channels=hid_channels, out_channels=hid_channels)\n",
    "        self.conv3 = GCNConv(in_channels=hid_channels, out_channels=out_channels)\n",
    "        # self.lin1 = torch.nn.Linear(in_features=hid_channels, out_features=out_channels)\n",
    "\n",
    "    def forward(self, x, edge_index, index=0):\n",
    "        # print(x)\n",
    "        x = self.conv1(x, edge_index)\n",
    "        # print(x)\n",
    "        x = x.relu()\n",
    "        x = F.dropout(x, p=0.5, training=self.training)\n",
    "        x = self.conv2(x, edge_index)\n",
    "        x = x.relu()\n",
    "        x = F.dropout(x, p=0.5, training=self.training)\n",
    "        x = self.conv3(x, edge_index)\n",
    "        # x = self.lin1(x)\n",
    "        # x = x.sigmoid()\n",
    "        return x\n",
    "    "
   ]
  },
  {
   "cell_type": "code",
   "execution_count": 29,
   "metadata": {},
   "outputs": [
    {
     "name": "stdout",
     "output_type": "stream",
     "text": [
      "GNN(\n",
      "  (conv1): GCNConv(5, 128)\n",
      "  (conv2): GCNConv(128, 128)\n",
      "  (conv3): GCNConv(128, 84)\n",
      ")\n",
      "Loss: 1.287, Score: 0.499\n",
      "Loss: 0.417, Score: 0.539\n",
      "Loss: 0.258, Score: 0.551\n",
      "Loss: 0.227, Score: 0.556\n",
      "Loss: 0.218, Score: 0.558\n"
     ]
    }
   ],
   "source": [
    "in_channels = data.num_features\n",
    "hid_channels = 128\n",
    "out_channels = data.y.shape[1]\n",
    "\n",
    "model = GNN(in_channels=in_channels, hid_channels=hid_channels, out_channels=out_channels)\n",
    "print(model)\n",
    "criterion = torch.nn.BCEWithLogitsLoss()\n",
    "optimizer = torch.optim.Adam(model.parameters(), lr=0.01, weight_decay=5e-4)\n",
    "\n",
    "\n",
    "def train():\n",
    "    model.train()\n",
    "    optimizer.zero_grad()  # Clear gradients.\n",
    "    out = model(data.x, data.edge_index)  # Perform a single forward pass.\n",
    "    loss = criterion(out[data.train_mask], data.y[data.train_mask])  # Compute the loss solely based on the training nodes.\n",
    "    loss.backward()  # Derive gradients.\n",
    "    optimizer.step()  # Update parameters based on gradients.\n",
    "    return loss\n",
    "\n",
    "def test():\n",
    "    model.eval()\n",
    "    out = model(data.x, data.edge_index)\n",
    "    pred = out.argmax(dim=1)  # Use the class with highest probability.\n",
    "    test_correct = pred[data.test_mask] == data.y[data.test_mask]  # Check against ground-truth labels.\n",
    "    test_acc = int(test_correct.sum()) / int(data.test_mask.sum())  # Derive ratio of correct predictions.\n",
    "    return test_acc\n",
    "\n",
    "def device_finder():\n",
    "    device = torch.device('cuda' if torch.cuda.is_available() else 'cpu')\n",
    "    return device\n",
    "\n",
    "\n",
    "# for epoch in range(0, 11):\n",
    "#     loss = train()\n",
    "#     if epoch % 10 == 0:\n",
    "#         print(f'Epoch: {epoch:03d}, Loss: {loss:.4f}')\n",
    "losses = []\n",
    "\n",
    "for epoch in range(5):\n",
    "    output = model(data.x, data.edge_index)\n",
    "    loss = criterion(output, data.y.float())\n",
    "    losses.append(loss.item())\n",
    "    optimizer.zero_grad()\n",
    "    loss.backward()\n",
    "    optimizer.step()\n",
    "    temp_outputs = output.clone().detach().numpy()\n",
    "    temp_labels = np.array(data.y)\n",
    "    score = roc_auc_score(temp_labels, temp_outputs)\n",
    "    loss = float(\"{:.3f}\".format(loss.item()))\n",
    "    score = float(\"{:.3f}\".format(score))\n",
    "    print(f'Loss: {loss}, AUC Score: {score}')"
   ]
  },
  {
   "cell_type": "code",
   "execution_count": null,
   "metadata": {},
   "outputs": [],
   "source": []
  }
 ],
 "metadata": {
  "interpreter": {
   "hash": "f51edbcfed46dde0fadb0d95ca63501d46d8e67bef8440c64e8d20599c465dc9"
  },
  "kernelspec": {
   "display_name": "Python 3.8.12 ('pyg')",
   "language": "python",
   "name": "python3"
  },
  "language_info": {
   "codemirror_mode": {
    "name": "ipython",
    "version": 3
   },
   "file_extension": ".py",
   "mimetype": "text/x-python",
   "name": "python",
   "nbconvert_exporter": "python",
   "pygments_lexer": "ipython3",
   "version": "3.8.12"
  },
  "orig_nbformat": 4
 },
 "nbformat": 4,
 "nbformat_minor": 2
}
